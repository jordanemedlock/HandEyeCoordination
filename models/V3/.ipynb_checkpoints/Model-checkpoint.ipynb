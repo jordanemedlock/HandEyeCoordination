{
 "cells": [
  {
   "cell_type": "code",
   "execution_count": 42,
   "metadata": {},
   "outputs": [],
   "source": [
    "from solid.utils import *\n",
    "from solid.objects import *\n",
    "from solid.solidpython import *\n",
    "import viewscad\n",
    "import subprocess\n",
    "import traceback\n",
    "\n",
    "r = viewscad.Renderer(openscad_exec='C:\\Program Files\\OpenSCAD\\openscad')\n"
   ]
  },
  {
   "cell_type": "code",
   "execution_count": 59,
   "metadata": {},
   "outputs": [],
   "source": [
    "ARM_STL = 'D:/Projects/HandEyeCoordination/models/V3/hand_v2.stl'\n",
    "ARM_BOUNDS = [130, 150, 500]"
   ]
  },
  {
   "cell_type": "code",
   "execution_count": 68,
   "metadata": {},
   "outputs": [],
   "source": [
    "def arm():\n",
    "    arm_model = import_stl(ARM_STL)\n",
    "    return translate([-40,10,0])(arm_model)\n",
    "\n",
    "def cutInHalf(model, size, half):\n",
    "    [x,y,z] = size\n",
    "    bounds = translate([-x/2, -y/2, 0])(cube(size))\n",
    "    whole = intersection()(model, bounds)\n",
    "    top_size = [x,y,z*(1-half)]\n",
    "    top_bounds = translate([-x/2, -y/2, z*half])(cube(top_size))\n",
    "    top = translate([0,0,-z*half])(intersection()(whole, top_bounds))\n",
    "    bottom_size = [x,y,z*half]\n",
    "    bottom_bounds = translate([-x/2, -y/2, 0])(cube(bottom_size))\n",
    "    bottom = intersection()(whole, bottom_bounds)\n",
    "    return (top, top_size), (bottom, bottom_size)"
   ]
  },
  {
   "cell_type": "code",
   "execution_count": 72,
   "metadata": {},
   "outputs": [],
   "source": [
    "BEARING_IR = 4\n",
    "BEARING_OR = 22.4/2\n",
    "BEARING_H = 7\n",
    "def bearing():\n",
    "    return difference()(\n",
    "        cylinder(r=BEARING_OR, h=BEARING_H),\n",
    "        cylinder(r=BEARING_IR, h=BEARING_H)\n",
    "    )"
   ]
  },
  {
   "cell_type": "code",
   "execution_count": 74,
   "metadata": {},
   "outputs": [],
   "source": []
  },
  {
   "cell_type": "code",
   "execution_count": 75,
   "metadata": {},
   "outputs": [
    {
     "data": {
      "application/vnd.jupyter.widget-view+json": {
       "model_id": "70522affb7564bfe928460fb278a62cc",
       "version_major": 2,
       "version_minor": 0
      },
      "text/plain": [
       "VBox(children=(HTML(value=''), Renderer(background='#cccc88', background_opacity=0.0, camera=PerspectiveCamera…"
      ]
     },
     "metadata": {},
     "output_type": "display_data"
    }
   ],
   "source": [
    "arm = arm()\n",
    "(hand, hand_size), (forearm, forearm_size) = cutInHalf(arm, ARM_BOUNDS, 0.5)\n",
    "\n",
    "\n",
    "r.render(bearing())"
   ]
  },
  {
   "cell_type": "code",
   "execution_count": null,
   "metadata": {},
   "outputs": [],
   "source": []
  },
  {
   "cell_type": "code",
   "execution_count": null,
   "metadata": {},
   "outputs": [],
   "source": []
  }
 ],
 "metadata": {
  "kernelspec": {
   "display_name": "Python 3",
   "language": "python",
   "name": "python3"
  },
  "language_info": {
   "codemirror_mode": {
    "name": "ipython",
    "version": 3
   },
   "file_extension": ".py",
   "mimetype": "text/x-python",
   "name": "python",
   "nbconvert_exporter": "python",
   "pygments_lexer": "ipython3",
   "version": "3.7.0"
  }
 },
 "nbformat": 4,
 "nbformat_minor": 2
}
