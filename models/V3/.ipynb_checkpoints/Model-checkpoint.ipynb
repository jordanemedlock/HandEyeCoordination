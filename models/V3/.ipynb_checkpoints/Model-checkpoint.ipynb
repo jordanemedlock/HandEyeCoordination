{
 "cells": [
  {
   "cell_type": "code",
   "execution_count": 1,
   "metadata": {},
   "outputs": [],
   "source": [
    "from solid.utils import *\n",
    "from solid.objects import *\n",
    "from solid.solidpython import *\n",
    "import viewscad\n",
    "import subprocess\n",
    "import traceback\n",
    "\n",
    "r = viewscad.Renderer(openscad_exec='C:\\Program Files\\OpenSCAD\\openscad')\n"
   ]
  },
  {
   "cell_type": "code",
   "execution_count": 2,
   "metadata": {},
   "outputs": [],
   "source": [
    "ARM_STL = 'D:/Projects/HandEyeCoordination/models/V3/hand_v2.stl'\n",
    "ARM_BOUNDS = [130, 150, 500]"
   ]
  },
  {
   "cell_type": "code",
   "execution_count": 3,
   "metadata": {},
   "outputs": [],
   "source": [
    "move = translate"
   ]
  },
  {
   "cell_type": "code",
   "execution_count": 4,
   "metadata": {},
   "outputs": [],
   "source": [
    "def cutInHalf(model, size, half):\n",
    "    [x,y,z] = size\n",
    "    bounds = translate([-x/2, -y/2, 0])(cube(size))\n",
    "    whole = intersection()(model, bounds)\n",
    "    top_size = [x,y,z*(1-half)]\n",
    "    top_bounds = translate([-x/2, -y/2, z*half])(cube(top_size))\n",
    "    top = translate([0,0,-z*half])(intersection()(whole, top_bounds))\n",
    "    bottom_size = [x,y,z*half]\n",
    "    bottom_bounds = translate([-x/2, -y/2, 0])(cube(bottom_size))\n",
    "    bottom = intersection()(whole, bottom_bounds)\n",
    "    return (top, top_size), (bottom, bottom_size)"
   ]
  },
  {
   "cell_type": "code",
   "execution_count": 5,
   "metadata": {},
   "outputs": [],
   "source": [
    "bearing_ir = 4\n",
    "bearing_or = 22.4/2\n",
    "bearing_h = 7\n",
    "bearing = cylinder(r=bearing_or, h=bearing_h) + hole()(cylinder(r=bearing_ir, h=bearing_h))\n"
   ]
  },
  {
   "cell_type": "code",
   "execution_count": 6,
   "metadata": {},
   "outputs": [],
   "source": [
    "servo_gear_r = 2.5\n",
    "servo_gear_h = 3\n",
    "servo_x = 12.3\n",
    "servo_y = 22.8\n",
    "servo_z = 22.8\n",
    "servo_arm_w = 32.3\n",
    "servo_arm_l = (servo_arm_w - servo_y)/2\n",
    "servo_arm_h = 11\n",
    "\n",
    "servo_arm = linear_extrude(height=5)(\n",
    "    circle(d=7),\n",
    "    translate([0,14])(circle(d=4)),\n",
    "    polygon([[3,0],[2,14],[-2,14],[-3,0]])\n",
    ")\n"
   ]
  },
  {
   "cell_type": "code",
   "execution_count": 7,
   "metadata": {},
   "outputs": [
    {
     "data": {
      "application/vnd.jupyter.widget-view+json": {
       "model_id": "3c2780f4ed6b4c04bb21252f83894fd0",
       "version_major": 2,
       "version_minor": 0
      },
      "text/plain": [
       "VBox(children=(HTML(value=''), Renderer(background='#cccc88', background_opacity=0.0, camera=PerspectiveCamera…"
      ]
     },
     "metadata": {},
     "output_type": "display_data"
    }
   ],
   "source": [
    "arm = translate([-40,18,0])(import_stl(ARM_STL))\n",
    "(hand_cut, hand_size), (forearm_cut, forearm_size) = cutInHalf(arm, ARM_BOUNDS, 0.5)\n",
    "\n",
    "r.render(hand_cut)"
   ]
  },
  {
   "cell_type": "code",
   "execution_count": 8,
   "metadata": {},
   "outputs": [
    {
     "name": "stdout",
     "output_type": "stream",
     "text": [
      "[130, 150, 125.0]\n"
     ]
    },
    {
     "data": {
      "application/vnd.jupyter.widget-view+json": {
       "model_id": "50bdf2d0fde3487b8f1e41d5814af8b9",
       "version_major": 2,
       "version_minor": 0
      },
      "text/plain": [
       "VBox(children=(HTML(value=''), Renderer(background='#cccc88', background_opacity=0.0, camera=PerspectiveCamera…"
      ]
     },
     "metadata": {},
     "output_type": "display_data"
    }
   ],
   "source": [
    "forearm = forearm_cut\n",
    "forearm = difference()(forearm, scale(0.9)(forearm))\n",
    "forearm -= translate([0,0,forearm_size[2]-bearing_h*4])(\n",
    "    scale([1,1,4])(\n",
    "        bearing\n",
    "    )\n",
    ")\n",
    "forearm -= translate([0,0,forearm_size[2]-bearing_h-10])(\n",
    "    cylinder(r=15, h=10)\n",
    ")\n",
    "servo_hole = (\n",
    "    translate([-servo_x/2,-servo_x/2,0])(\n",
    "        cube([servo_x, servo_y, servo_z+7])\n",
    "    ) \n",
    "    +\n",
    "    translate([-servo_x/2, -servo_x/2-servo_arm_l, 0])(\n",
    "        cube([servo_x, servo_arm_w, servo_z-1])\n",
    "    )\n",
    ")\n",
    "forearm -= translate([0,0,forearm_size[2]-46])(servo_hole)\n",
    "(forearm_top, forearm_top_size), (forearm_bottom, forearm_bottom_size) = cutInHalf(forearm, forearm_size, 0.5)\n",
    "scad_render_to_file(forearm_top, 'D:/Projects/HandEyeCoordination/models/V3/forearm_top.scad')\n",
    "scad_render_to_file(forearm_bottom, 'D:/Projects/HandEyeCoordination/models/V3/forearm_bottom.scad')\n",
    "print(forearm_bottom_size)\n",
    "r.render(forearm_bottom)"
   ]
  },
  {
   "cell_type": "code",
   "execution_count": 9,
   "metadata": {},
   "outputs": [
    {
     "data": {
      "application/vnd.jupyter.widget-view+json": {
       "model_id": "c095bcd039e740319bf8d07a228a571c",
       "version_major": 2,
       "version_minor": 0
      },
      "text/plain": [
       "VBox(children=(HTML(value=''), Renderer(background='#cccc88', background_opacity=0.0, camera=PerspectiveCamera…"
      ]
     },
     "metadata": {},
     "output_type": "display_data"
    }
   ],
   "source": [
    "axel = cylinder(r=10, h=8)\n",
    "axel += cylinder(r=bearing_ir+2, h=10)\n",
    "axel += cylinder(r=bearing_ir, h=30)\n",
    "axel -= servo_arm\n",
    "# axel -= move([0,0,25])(rotate([0,90,0])(cylinder(r=1,h=20, center=True)))\n",
    "\n",
    "scad_render_to_file(axel, 'D:/Projects/HandEyeCoordination/models/V3/axel.scad')\n",
    "\n",
    "\n",
    "r.render(axel)"
   ]
  },
  {
   "cell_type": "code",
   "execution_count": 18,
   "metadata": {},
   "outputs": [
    {
     "data": {
      "application/vnd.jupyter.widget-view+json": {
       "model_id": "3c8c2550b3924475962a7742364702d0",
       "version_major": 2,
       "version_minor": 0
      },
      "text/plain": [
       "VBox(children=(HTML(value=''), Renderer(background='#cccc88', background_opacity=0.0, camera=PerspectiveCamera…"
      ]
     },
     "metadata": {},
     "output_type": "display_data"
    }
   ],
   "source": [
    "hand = hand_cut\n",
    "segments = 100\n",
    "camera_r = 9\n",
    "\n",
    "\n",
    "eye_greater = sphere(r=50, segments=segments)\n",
    "eye_gimbal = (eye_greater - sphere(r=46, segments=segments)) * move([-50,-50,-10])(cube([100,100,30]))\n",
    "\n",
    "eye = sphere(r=45, segments=segments)\n",
    "eye -= sphere(r=41, segments=segments)\n",
    "eye *= move([-50,-50,-20])(cube([100,100,100]))\n",
    "eye -= cylinder(r=camera_r, h=100)\n",
    "\n",
    "camera_peg = cylinder(r=3, h=10) - (cylinder(r=1,h=10))\n",
    "camera_pegs = move([14,14,0])(camera_peg) + move([14,-14,0])(camera_peg) + move([-14,14,0])(camera_peg) + move([-14,-14,0])(camera_peg)\n",
    "camera_pegs += cylinder(r=40, h=20) - move([-15,-15,0])(cube([30,30,20]))\n",
    "\n",
    "eye += translate([0,0,27])(camera_pegs)\n",
    "\n",
    "servo_block_h = 30\n",
    "servo_block_w = 10\n",
    "servo_block = cube([servo_x, servo_block_w, servo_block_h]) - (move([servo_x/2,2,0])(cylinder(r=1, h=servo_block_h)))\n",
    "servo_holder = move([0,servo_block_h,0])(\n",
    "    union()(\n",
    "        move([-servo_x/2,-servo_y,0])(\n",
    "            scale([1,-1,1])( # mirror it so it faces the other direction\n",
    "                servo_block\n",
    "            )\n",
    "        ),\n",
    "        move([-servo_x/2,0,0])(\n",
    "            servo_block\n",
    "        )\n",
    "    )\n",
    ")\n",
    "\n",
    "servo_hole = cylinder(r=7, h=40)\n",
    "\n",
    "servo_holder = translate([0,0,-5])(translate([0,-9.5,0])(servo_holder))\n",
    "\n",
    "eye += translate([20,0,0])(rotate([0,90,0])(servo_holder))\n",
    "eye -= translate([30,0,0])(rotate([0,90,0])(servo_hole))\n",
    "eye -= translate([-43,0,0])(rotate([0,90,0])(bearing))\n",
    "eye -= translate([-42,0,0])(rotate([0,90,0])(cylinder(r=bearing_ir+1, h=20, center=True)))\n",
    "\n",
    "eye *= sphere(r=45, segments=segments) # remove stuff sticking out the side\n",
    "eye = rotate([0,0,90])(eye) # I wrote this in the wrong direction and need to turn it to use it\n",
    "\n",
    "scad_render_to_file(eye, 'D:/Projects/HandEyeCoordination/models/V3/eye.scad')\n",
    "scad_render_to_file(eye_gimbal, 'D:/Projects/HandEyeCoordination/models/V3/eye_gimbal.scad')\n",
    "\n",
    "\n",
    "hand = hand - translate([25,7,173])(eye_greater)\n",
    "hand_and_eye = hand\n",
    "hand_and_eye += translate([25,7,173])(\n",
    "    rotate([0,-110,-5])(\n",
    "        eye_gimbal + rotate([180,0,0])(eye)\n",
    "    )\n",
    ")\n",
    "\n",
    "r.render(servo_holder)"
   ]
  },
  {
   "cell_type": "code",
   "execution_count": 11,
   "metadata": {},
   "outputs": [
    {
     "name": "stdout",
     "output_type": "stream",
     "text": [
      "[130, 150, 125.0]\n"
     ]
    },
    {
     "data": {
      "application/vnd.jupyter.widget-view+json": {
       "model_id": "af3103d85dc348ae824b3e739db193c4",
       "version_major": 2,
       "version_minor": 0
      },
      "text/plain": [
       "VBox(children=(HTML(value=''), Renderer(background='#cccc88', background_opacity=0.0, camera=PerspectiveCamera…"
      ]
     },
     "metadata": {},
     "output_type": "display_data"
    }
   ],
   "source": [
    "keyhole_h = 20-bearing_h\n",
    "# hand = hand_cut\n",
    "wrist_keyhole = cylinder(r=bearing_ir+0.5, h=keyhole_h)\n",
    "wrist_keyhole += move([0,0,keyhole_h/2])(cube([4,30,keyhole_h], center=True))\n",
    "wrist_keyhole += move([0,0,keyhole_h/2])(cube([30,4,keyhole_h], center=True))\n",
    "\n",
    "hand -= wrist_keyhole\n",
    "\n",
    "hand -= move([0,0,130])(rotate([0,-90,0])(cylinder(r=8,h=60)))\n",
    "\n",
    "(hand_top, hand_top_size), (hand_bottom, hand_bottom_size) = cutInHalf(hand, hand_size, 0.5)\n",
    "scad_render_to_file(hand_top, 'D:/Projects/HandEyeCoordination/models/V3/hand_top.scad')\n",
    "scad_render_to_file(hand_bottom, 'D:/Projects/HandEyeCoordination/models/V3/hand_bottom.scad')\n",
    "\n",
    "print(hand_top_size)\n",
    "r.render(hand_top)"
   ]
  },
  {
   "cell_type": "code",
   "execution_count": null,
   "metadata": {},
   "outputs": [],
   "source": []
  }
 ],
 "metadata": {
  "kernelspec": {
   "display_name": "Python 3",
   "language": "python",
   "name": "python3"
  },
  "language_info": {
   "codemirror_mode": {
    "name": "ipython",
    "version": 3
   },
   "file_extension": ".py",
   "mimetype": "text/x-python",
   "name": "python",
   "nbconvert_exporter": "python",
   "pygments_lexer": "ipython3",
   "version": "3.7.0"
  }
 },
 "nbformat": 4,
 "nbformat_minor": 2
}
