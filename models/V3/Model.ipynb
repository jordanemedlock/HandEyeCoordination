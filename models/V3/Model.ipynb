{
 "cells": [
  {
   "cell_type": "code",
   "execution_count": 42,
   "metadata": {},
   "outputs": [],
   "source": [
    "from solid.utils import *\n",
    "from solid.objects import *\n",
    "from solid.solidpython import *\n",
    "import viewscad\n",
    "import subprocess\n",
    "import traceback\n",
    "\n",
    "r = viewscad.Renderer(openscad_exec='C:\\Program Files\\OpenSCAD\\openscad')\n"
   ]
  },
  {
   "cell_type": "code",
   "execution_count": 59,
   "metadata": {},
   "outputs": [],
   "source": [
    "ARM_STL = 'D:/Projects/HandEyeCoordination/models/V3/hand_v2.stl'\n",
    "ARM_BOUNDS = [130, 150, 500]"
   ]
  },
  {
   "cell_type": "code",
   "execution_count": 68,
   "metadata": {},
   "outputs": [],
   "source": [
    "def cutInHalf(model, size, half):\n",
    "    [x,y,z] = size\n",
    "    bounds = translate([-x/2, -y/2, 0])(cube(size))\n",
    "    whole = intersection()(model, bounds)\n",
    "    top_size = [x,y,z*(1-half)]\n",
    "    top_bounds = translate([-x/2, -y/2, z*half])(cube(top_size))\n",
    "    top = translate([0,0,-z*half])(intersection()(whole, top_bounds))\n",
    "    bottom_size = [x,y,z*half]\n",
    "    bottom_bounds = translate([-x/2, -y/2, 0])(cube(bottom_size))\n",
    "    bottom = intersection()(whole, bottom_bounds)\n",
    "    return (top, top_size), (bottom, bottom_size)"
   ]
  },
  {
   "cell_type": "code",
   "execution_count": 72,
   "metadata": {},
   "outputs": [],
   "source": [
    "bearing_ir = 4\n",
    "bearing_or = 22.4/2\n",
    "bearing_h = 7\n",
    "bearing = difference()(\n",
    "    cylinder(r=bearing_or, h=bearing_h),\n",
    "    cylinder(r=bearing_ir, h=bearing_h)\n",
    ")"
   ]
  },
  {
   "cell_type": "code",
   "execution_count": 78,
   "metadata": {},
   "outputs": [],
   "source": [
    "servo_gear_r = 2.5\n",
    "servo_gear_h = 3\n",
    "servo_x = 12.3\n",
    "servo_y = 22.6\n",
    "servo_arm_w = 32.3\n",
    "servo_arm_h = 11\n",
    "\n",
    "servo_arm = linear_extrude(height=5)(\n",
    "    circle(d=7),\n",
    "    translate([0,14])(circle(d=4)),\n",
    "    polygon([[3,0],[2,14],[-2,14],[-3,0]])\n",
    ")\n"
   ]
  },
  {
   "cell_type": "code",
   "execution_count": 80,
   "metadata": {},
   "outputs": [
    {
     "data": {
      "application/vnd.jupyter.widget-view+json": {
       "model_id": "08656563dd024693bf11f71f1e7c61b3",
       "version_major": 2,
       "version_minor": 0
      },
      "text/plain": [
       "VBox(children=(HTML(value=''), Renderer(background='#cccc88', background_opacity=0.0, camera=PerspectiveCamera…"
      ]
     },
     "metadata": {},
     "output_type": "display_data"
    }
   ],
   "source": [
    "arm = translate([-40,10,0])(import_stl(ARM_STL))\n",
    "(hand, hand_size), (forearm, forearm_size) = cutInHalf(arm, ARM_BOUNDS, 0.5)\n",
    "\n",
    "\n",
    "r.render(servo_arm)"
   ]
  },
  {
   "cell_type": "code",
   "execution_count": null,
   "metadata": {},
   "outputs": [],
   "source": []
  },
  {
   "cell_type": "code",
   "execution_count": null,
   "metadata": {},
   "outputs": [],
   "source": []
  }
 ],
 "metadata": {
  "kernelspec": {
   "display_name": "Python 3",
   "language": "python",
   "name": "python3"
  },
  "language_info": {
   "codemirror_mode": {
    "name": "ipython",
    "version": 3
   },
   "file_extension": ".py",
   "mimetype": "text/x-python",
   "name": "python",
   "nbconvert_exporter": "python",
   "pygments_lexer": "ipython3",
   "version": "3.7.0"
  }
 },
 "nbformat": 4,
 "nbformat_minor": 2
}
