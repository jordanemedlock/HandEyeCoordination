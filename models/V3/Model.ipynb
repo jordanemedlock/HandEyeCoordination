{
 "cells": [
  {
   "cell_type": "code",
   "execution_count": 1,
   "metadata": {},
   "outputs": [],
   "source": [
    "from solid.utils import *\n",
    "from solid.objects import *\n",
    "from solid.solidpython import *\n",
    "import viewscad\n",
    "import subprocess\n",
    "import traceback\n",
    "\n",
    "r = viewscad.Renderer(openscad_exec='C:\\Program Files\\OpenSCAD\\openscad')\n"
   ]
  },
  {
   "cell_type": "code",
   "execution_count": 2,
   "metadata": {},
   "outputs": [],
   "source": [
    "ARM_STL = 'D:/Projects/HandEyeCoordination/models/V3/hand_v2.stl'\n",
    "ARM_BOUNDS = [130, 150, 500]"
   ]
  },
  {
   "cell_type": "code",
   "execution_count": 3,
   "metadata": {},
   "outputs": [],
   "source": [
    "move = translate"
   ]
  },
  {
   "cell_type": "code",
   "execution_count": 4,
   "metadata": {},
   "outputs": [],
   "source": [
    "def cutInHalf(model, size, half):\n",
    "    [x,y,z] = size\n",
    "    bounds = translate([-x/2, -y/2, 0])(cube(size))\n",
    "    whole = intersection()(model, bounds)\n",
    "    top_size = [x,y,z*(1-half)]\n",
    "    top_bounds = translate([-x/2, -y/2, z*half])(cube(top_size))\n",
    "    top = translate([0,0,-z*half])(intersection()(whole, top_bounds))\n",
    "    bottom_size = [x,y,z*half]\n",
    "    bottom_bounds = translate([-x/2, -y/2, 0])(cube(bottom_size))\n",
    "    bottom = intersection()(whole, bottom_bounds)\n",
    "    return (top, top_size), (bottom, bottom_size)"
   ]
  },
  {
   "cell_type": "code",
   "execution_count": 5,
   "metadata": {},
   "outputs": [],
   "source": [
    "bearing_ir = 4\n",
    "bearing_or = 22.4/2\n",
    "bearing_h = 7\n",
    "bearing = cylinder(r=bearing_or, h=bearing_h) + hole()(cylinder(r=bearing_ir, h=bearing_h))\n"
   ]
  },
  {
   "cell_type": "code",
   "execution_count": 6,
   "metadata": {},
   "outputs": [
    {
     "data": {
      "application/vnd.jupyter.widget-view+json": {
       "model_id": "57c99fda905343ec8e709e2642300385",
       "version_major": 2,
       "version_minor": 0
      },
      "text/plain": [
       "VBox(children=(HTML(value=''), Renderer(background='#cccc88', background_opacity=0.0, camera=PerspectiveCamera…"
      ]
     },
     "metadata": {},
     "output_type": "display_data"
    }
   ],
   "source": [
    "servo_gear_r = 2.5\n",
    "servo_gear_h = 3\n",
    "servo_x = 12.3\n",
    "servo_y = 22.8\n",
    "servo_z = 22.8\n",
    "servo_arm_w = 32.3\n",
    "servo_arm_l = (servo_arm_w - servo_y)/2\n",
    "servo_arm_h = 11\n",
    "\n",
    "servo_arm_2d = union()(\n",
    "    circle(d=7),\n",
    "    translate([0,14])(circle(d=4)),\n",
    "    polygon([[3,0],[2,14],[-2,14],[-3,0]])\n",
    ")\n",
    "\n",
    "servo_arm = linear_extrude(height=5)(\n",
    "    servo_arm_2d\n",
    ")\n",
    "\n",
    "detailed_servo_arm_neg = move([0,0,-5])(\n",
    "    union()(\n",
    "        move([0,0,-1])(linear_extrude(height=3)(servo_arm_2d)),\n",
    "        cylinder(d=7, h=6)\n",
    "    )\n",
    ")\n",
    "\n",
    "servo_wing_neg = union()(\n",
    "    cube([servo_x, servo_arm_l, servo_z-2]),\n",
    "    move([servo_x/2, 2, 0])(cylinder(r=1, h=servo_z+10))\n",
    ")\n",
    "\n",
    "servo_neg = move([-servo_x/2, -servo_x/2, -servo_z-6])(\n",
    "    union()(\n",
    "        cube([servo_x, servo_y, servo_z]),\n",
    "        scale([1,-1,1])(move([0,0,0])(servo_wing_neg)),\n",
    "        move([0,servo_y,0])(servo_wing_neg),\n",
    "        move([servo_x/2,servo_x/2,0])(\n",
    "            union()(\n",
    "                cylinder(r=servo_x/2, h=servo_z+6),\n",
    "                move([0,servo_x/2+1,0])(\n",
    "                    cylinder(r=2.5, h=servo_z+6)\n",
    "                )\n",
    "            )\n",
    "        )\n",
    "    )\n",
    ")\n",
    "\n",
    "r.render(detailed_servo_arm_neg)"
   ]
  },
  {
   "cell_type": "code",
   "execution_count": 7,
   "metadata": {},
   "outputs": [
    {
     "data": {
      "application/vnd.jupyter.widget-view+json": {
       "model_id": "e1b29e2c82a9430197884910598b5da6",
       "version_major": 2,
       "version_minor": 0
      },
      "text/plain": [
       "VBox(children=(HTML(value=''), Renderer(background='#cccc88', background_opacity=0.0, camera=PerspectiveCamera…"
      ]
     },
     "metadata": {},
     "output_type": "display_data"
    }
   ],
   "source": [
    "arm = translate([-40,18,0])(import_stl(ARM_STL))\n",
    "(hand_cut, hand_size), (forearm_cut, forearm_size) = cutInHalf(arm, ARM_BOUNDS, 0.5)\n",
    "\n",
    "r.render(hand_cut)"
   ]
  },
  {
   "cell_type": "code",
   "execution_count": 8,
   "metadata": {},
   "outputs": [
    {
     "name": "stdout",
     "output_type": "stream",
     "text": [
      "[130, 150, 125.0]\n"
     ]
    },
    {
     "data": {
      "application/vnd.jupyter.widget-view+json": {
       "model_id": "5ef17105cc534f74b56211d92976b738",
       "version_major": 2,
       "version_minor": 0
      },
      "text/plain": [
       "VBox(children=(HTML(value=''), Renderer(background='#cccc88', background_opacity=0.0, camera=PerspectiveCamera…"
      ]
     },
     "metadata": {},
     "output_type": "display_data"
    }
   ],
   "source": [
    "forearm = forearm_cut\n",
    "forearm = difference()(forearm, scale(0.9)(forearm))\n",
    "forearm -= translate([0,0,forearm_size[2]-bearing_h*4])(\n",
    "    scale([1,1,4])(\n",
    "        bearing\n",
    "    )\n",
    ")\n",
    "forearm -= translate([0,0,forearm_size[2]-bearing_h-10])(\n",
    "    cylinder(r=15, h=10)\n",
    ")\n",
    "servo_hole = (\n",
    "    translate([-servo_x/2,-servo_x/2,0])(\n",
    "        cube([servo_x, servo_y, servo_z+7])\n",
    "    ) \n",
    "    +\n",
    "    translate([-servo_x/2, -servo_x/2-servo_arm_l, 0])(\n",
    "        cube([servo_x, servo_arm_w, servo_z-1])\n",
    "    )\n",
    ")\n",
    "forearm -= translate([0,0,forearm_size[2]-46])(servo_hole)\n",
    "(forearm_top, forearm_top_size), (forearm_bottom, forearm_bottom_size) = cutInHalf(forearm, forearm_size, 0.5)\n",
    "scad_render_to_file(forearm_top, 'D:/Projects/HandEyeCoordination/models/V3/forearm_top.scad')\n",
    "scad_render_to_file(forearm_bottom, 'D:/Projects/HandEyeCoordination/models/V3/forearm_bottom.scad')\n",
    "print(forearm_bottom_size)\n",
    "r.render(forearm_bottom)"
   ]
  },
  {
   "cell_type": "code",
   "execution_count": 9,
   "metadata": {},
   "outputs": [
    {
     "data": {
      "application/vnd.jupyter.widget-view+json": {
       "model_id": "e52db6096995436cae44ecd6ff0a5261",
       "version_major": 2,
       "version_minor": 0
      },
      "text/plain": [
       "VBox(children=(HTML(value=''), Renderer(background='#cccc88', background_opacity=0.0, camera=PerspectiveCamera…"
      ]
     },
     "metadata": {},
     "output_type": "display_data"
    }
   ],
   "source": [
    "axel = cylinder(r=10, h=8)\n",
    "axel += cylinder(r=bearing_ir+2, h=10)\n",
    "axel += cylinder(r=bearing_ir, h=60)\n",
    "axel -= servo_arm\n",
    "# axel -= move([0,0,25])(rotate([0,90,0])(cylinder(r=1,h=20, center=True)))\n",
    "\n",
    "scad_render_to_file(axel, 'D:/Projects/HandEyeCoordination/models/V3/axel.scad')\n",
    "\n",
    "\n",
    "r.render(axel)"
   ]
  },
  {
   "cell_type": "code",
   "execution_count": 10,
   "metadata": {},
   "outputs": [
    {
     "data": {
      "application/vnd.jupyter.widget-view+json": {
       "model_id": "da8364db1bb84ad59bb143297364b139",
       "version_major": 2,
       "version_minor": 0
      },
      "text/plain": [
       "VBox(children=(HTML(value=''), Renderer(background='#cccc88', background_opacity=0.0, camera=PerspectiveCamera…"
      ]
     },
     "metadata": {},
     "output_type": "display_data"
    }
   ],
   "source": [
    "hand = hand_cut\n",
    "segments = 100\n",
    "camera_r = 9\n",
    "\n",
    "eye_gimbal_key = cylinder(r=bearing_ir, h=20)\n",
    "eye_gimbal_key += move([-4,-8,0])(cube([8,16,3]))\n",
    "\n",
    "eye_gimbal_keyhole = cylinder(r=bearing_ir, h=10)\n",
    "eye_gimbal_keyhole += move([-4.3,-8.3,0])(cube([8.6,16.6,6]))\n",
    "\n",
    "\n",
    "\n",
    "eye_greater = sphere(r=50, segments=segments)\n",
    "eye_gimbal = (eye_greater - sphere(r=46, segments=segments)) * move([-50,-50,-10])(cube([100,100,30]))\n",
    "eye_gimbal -= move([0,45,0])(rotate([0,-90,90])(detailed_servo_arm_neg))\n",
    "eye_gimbal -= move([0,-50,0])(rotate([0,90,90])(eye_gimbal_keyhole))\n",
    "# eye_gimbal += move([0,-50,0])(rotate([0,90,90])(eye_gimbal_key))\n",
    "\n",
    "eye_gimbal = rotate([0,0,180])(eye_gimbal) # wrong direction on the eye\n",
    "\n",
    "eye = sphere(r=45, segments=segments)\n",
    "eye -= sphere(r=41, segments=segments)\n",
    "eye *= move([-50,-50,-20])(cube([100,100,100]))\n",
    "eye -= cylinder(r=camera_r, h=100)\n",
    "\n",
    "camera_peg = cylinder(r=3, h=10) - (cylinder(r=1,h=10))\n",
    "camera_pegs = move([14,14,0])(camera_peg) + move([14,-14,0])(camera_peg) + move([-14,14,0])(camera_peg) + move([-14,-14,0])(camera_peg)\n",
    "camera_pegs += cylinder(r=40, h=20) - move([-15,-15,0])(cube([30,30,20]))\n",
    "\n",
    "eye += translate([0,0,34])(camera_pegs)\n",
    "\n",
    "servo_block_h = 6\n",
    "servo_block_w = 10\n",
    "servo_block = cube([servo_x, servo_block_w, servo_block_h]) + hole()(move([servo_x/2,2,0])(cylinder(r=1, h=servo_block_h)))\n",
    "servo_holder = move([0,servo_x/2,0])(\n",
    "    union()(\n",
    "        move([-servo_x/2,-servo_y,0])(\n",
    "            scale([1,-1,1])( # mirror it so it faces the other direction\n",
    "                servo_block\n",
    "            )\n",
    "        ),\n",
    "        move([-servo_x/2,0,0])(\n",
    "            servo_block\n",
    "        )\n",
    "    )\n",
    ")\n",
    "\n",
    "servo_hole = cylinder(r=servo_x/2, h=40) + move([0,-servo_x/2,0])(cylinder(r=3, h=40))\n",
    "\n",
    "eye -= translate([45,0,0])(rotate([0,90,0])(servo_neg))\n",
    "# eye -= translate([30,0,0])(rotate([0,90,0])(servo_hole))\n",
    "eye -= translate([-43,0,0])(rotate([0,90,0])(bearing))\n",
    "eye -= translate([-42,0,0])(rotate([0,90,0])(cylinder(r=bearing_ir+1, h=20, center=True)))\n",
    "\n",
    "eye *= sphere(r=45, segments=segments) # remove stuff sticking out the sides\n",
    "eye = rotate([0,0,90])(eye) # I wrote this in the wrong direction and need to turn it to use it\n",
    "\n",
    "scad_render_to_file(eye, 'D:/Projects/HandEyeCoordination/models/V3/eye.scad')\n",
    "scad_render_to_file(eye_gimbal, 'D:/Projects/HandEyeCoordination/models/V3/eye_gimbal.scad')\n",
    "scad_render_to_file(eye_gimbal_key, 'D:/Projects/HandEyeCoordination/models/V3/eye_gimbal_key.scad')\n",
    "\n",
    "just_the_eye = eye_gimbal + rotate([180,0,0])(eye)\n",
    "\n",
    "hand = hand - translate([25,7,173])(eye_greater)\n",
    "hand_and_eye = hand\n",
    "hand_and_eye += translate([25,7,173])(\n",
    "    rotate([0,-110,-5])(\n",
    "        just_the_eye\n",
    "    )\n",
    ")\n",
    "\n",
    "r.render(eye)"
   ]
  },
  {
   "cell_type": "code",
   "execution_count": 11,
   "metadata": {},
   "outputs": [
    {
     "name": "stdout",
     "output_type": "stream",
     "text": [
      "[130, 150, 125.0]\n"
     ]
    },
    {
     "data": {
      "application/vnd.jupyter.widget-view+json": {
       "model_id": "f7856399d2824212964cdee9ca500ec1",
       "version_major": 2,
       "version_minor": 0
      },
      "text/plain": [
       "VBox(children=(HTML(value=''), Renderer(background='#cccc88', background_opacity=0.0, camera=PerspectiveCamera…"
      ]
     },
     "metadata": {},
     "output_type": "display_data"
    }
   ],
   "source": [
    "keyhole_h = 20-bearing_h\n",
    "# hand = hand_cut\n",
    "wrist_keyhole = cylinder(r=bearing_ir+0.5, h=keyhole_h)\n",
    "wrist_keyhole += move([0,0,keyhole_h/2])(cube([4,30,keyhole_h], center=True))\n",
    "wrist_keyhole += move([0,0,keyhole_h/2])(cube([30,4,keyhole_h], center=True))\n",
    "\n",
    "hand -= wrist_keyhole\n",
    "\n",
    "hand -= move([0,0,130])(rotate([0,-90,0])(cylinder(r=8,h=60)))\n",
    "\n",
    "(hand_top, hand_top_size), (hand_bottom, hand_bottom_size) = cutInHalf(hand, hand_size, 0.5)\n",
    "scad_render_to_file(hand_top, 'D:/Projects/HandEyeCoordination/models/V3/hand_top.scad')\n",
    "scad_render_to_file(hand_bottom, 'D:/Projects/HandEyeCoordination/models/V3/hand_bottom.scad')\n",
    "\n",
    "print(hand_top_size)\n",
    "r.render(hand_top)"
   ]
  },
  {
   "cell_type": "code",
   "execution_count": null,
   "metadata": {},
   "outputs": [],
   "source": []
  }
 ],
 "metadata": {
  "kernelspec": {
   "display_name": "Python 3",
   "language": "python",
   "name": "python3"
  },
  "language_info": {
   "codemirror_mode": {
    "name": "ipython",
    "version": 3
   },
   "file_extension": ".py",
   "mimetype": "text/x-python",
   "name": "python",
   "nbconvert_exporter": "python",
   "pygments_lexer": "ipython3",
   "version": "3.7.0"
  }
 },
 "nbformat": 4,
 "nbformat_minor": 2
}
